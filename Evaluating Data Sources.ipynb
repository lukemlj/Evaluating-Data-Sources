{
 "cells": [
  {
   "cell_type": "markdown",
   "metadata": {},
   "source": [
    "In each of the scenarios, find possible shortcomings of the data sources to answer the given question. What could be done to either adjust the analysis or reframe the question so that you can answer it accurately?"
   ]
  },
  {
   "cell_type": "markdown",
   "metadata": {},
   "source": [
    "* **Data Source**: Amsterdam availability data scraped from AirBnB on December 24th. **Question**: What are the popular neighborhoods in Amsterdam?\n",
    "\n",
    "This data has a selection bias for AirBnB users. You could limit your analysis to neighborhoods popular with AirBnB users only. You could maybe somehow conduct an additional experiment to somehow quantify the difference (or lack of difference) in popularity of locations between AirBnB users and the average person in Amsterdam at the time. \n",
    "\n",
    "There is also a selection bias for the date, the day before Christmas. So you could limit your analysis to this one day of the year. Perhaps you could do additional experiments to gather data comparing popularity on different dates throughout the year. "
   ]
  },
  {
   "cell_type": "markdown",
   "metadata": {},
   "source": [
    "* **Data Source**: Mental health services use on September 12, 2001 in San Francisco, CA and New York City, NY. **Question**: How do patterns of mental health service use vary between cities?\n",
    "\n",
    "The data is taken from the day after 9/11, so you would have to restrict any patterns found to this exact date. **Maybe** you could draw comparisons to other nationally traumatic events, but I'm not so sure about that. \n",
    "\n",
    "Also, I would guess that New York City would be more affected by the events than San Francisco. I really don't think you can compare the two cities and make any broader conclusions outside of this singular event. "
   ]
  },
  {
   "cell_type": "markdown",
   "metadata": {},
   "source": [
    "* **Data Source**: Armenian Pub Survey. **Question**: What are the most common reasons Armenians visit local pubs?\n",
    "\n",
    "According to the kaggle web page hosting the data, the data were taken from an online survey. So there's a selection bias for people who take online surveys. One could maybe conduct another survey at the pubs themselves and compare that data to the data from the online surveys to see if there is some difference between the datasets. Then perhaps you could adjust data for future online surveys."
   ]
  },
  {
   "cell_type": "code",
   "execution_count": null,
   "metadata": {
    "collapsed": true
   },
   "outputs": [],
   "source": []
  }
 ],
 "metadata": {
  "kernelspec": {
   "display_name": "Python 3",
   "language": "python",
   "name": "python3"
  },
  "language_info": {
   "codemirror_mode": {
    "name": "ipython",
    "version": 3
   },
   "file_extension": ".py",
   "mimetype": "text/x-python",
   "name": "python",
   "nbconvert_exporter": "python",
   "pygments_lexer": "ipython3",
   "version": "3.6.0"
  }
 },
 "nbformat": 4,
 "nbformat_minor": 2
}
